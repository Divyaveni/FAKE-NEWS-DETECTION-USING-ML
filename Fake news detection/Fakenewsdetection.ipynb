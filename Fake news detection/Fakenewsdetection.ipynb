{
 "cells": [
  {
   "cell_type": "code",
   "execution_count": 1,
   "source": [
    "import numpy as np\r\n",
    "import pandas as pd\r\n",
    "import itertools  #tool for handle the interatives\r\n",
    "from sklearn.model_selection import train_test_split\r\n",
    "from sklearn.feature_extraction.text import TfidfVectorizer\r\n",
    "from sklearn.linear_model import PassiveAggressiveClassifier\r\n",
    "from sklearn.metrics import accuracy_score, confusion_matrix"
   ],
   "outputs": [],
   "metadata": {}
  },
  {
   "cell_type": "code",
   "execution_count": 2,
   "source": [
    "df=pd.read_csv('news.csv')\r\n",
    "df.head()\r\n",
    "df.isnull().sum() "
   ],
   "outputs": [
    {
     "output_type": "execute_result",
     "data": {
      "text/plain": [
       "Unnamed: 0    0\n",
       "title         0\n",
       "text          0\n",
       "label         0\n",
       "dtype: int64"
      ]
     },
     "metadata": {},
     "execution_count": 2
    }
   ],
   "metadata": {}
  },
  {
   "cell_type": "code",
   "execution_count": 3,
   "source": [
    "#let x is the feature i.e., having text and y bde the label i.e., the target i\r\n",
    "x=df['text']\r\n",
    "y=df['label']"
   ],
   "outputs": [],
   "metadata": {}
  },
  {
   "cell_type": "code",
   "execution_count": 4,
   "source": [
    "x_train,x_test,y_train,y_test=train_test_split(x,y, test_size=0.2, random_state=7)"
   ],
   "outputs": [],
   "metadata": {}
  },
  {
   "cell_type": "code",
   "execution_count": 5,
   "source": [
    "\r\n",
    "from sklearn.feature_extraction.text import TfidfVectorizer\r\n",
    "# Initialize a TfidfVectorizer\r\n",
    "#it converts the data ina matrix form and decides the weightage of the word.\r\n",
    "tfidf_vectorizer=TfidfVectorizer(stop_words='english', max_df=0.7)\r\n",
    "\r\n",
    "#preprocessing of train data\r\n",
    "tfidf_train=tfidf_vectorizer.fit_transform(x_train)\r\n",
    "\r\n",
    "#preprocessing of test data\r\n",
    "tfidf_test=tfidf_vectorizer.transform(x_test)\r\n"
   ],
   "outputs": [],
   "metadata": {}
  },
  {
   "cell_type": "code",
   "execution_count": 6,
   "source": [
    "#classifier or algorithm to learn the model\r\n",
    "\r\n",
    "passive=PassiveAggressiveClassifier(max_iter=50)\r\n",
    "passive.fit(tfidf_train,y_train)\r\n",
    "y_pred=passive.predict(tfidf_test)\r\n",
    "\r\n",
    "#accuracy of the model\r\n",
    "score=accuracy_score(y_test,y_pred)\r\n",
    "print(score)\r\n",
    "\r\n",
    "#confusion matrix or kind of error calculation\r\n",
    "confusion_matrix(y_test,y_pred)\r\n",
    "#590+586 is fake news and 43+48 is wrong prediction"
   ],
   "outputs": [
    {
     "output_type": "stream",
     "name": "stdout",
     "text": [
      "0.9297553275453828\n"
     ]
    },
    {
     "output_type": "execute_result",
     "data": {
      "text/plain": [
       "array([[592,  46],\n",
       "       [ 43, 586]], dtype=int64)"
      ]
     },
     "metadata": {},
     "execution_count": 6
    }
   ],
   "metadata": {}
  }
 ],
 "metadata": {
  "orig_nbformat": 4,
  "language_info": {
   "name": "python",
   "version": "3.8.5",
   "mimetype": "text/x-python",
   "codemirror_mode": {
    "name": "ipython",
    "version": 3
   },
   "pygments_lexer": "ipython3",
   "nbconvert_exporter": "python",
   "file_extension": ".py"
  },
  "kernelspec": {
   "name": "python3",
   "display_name": "Python 3.8.5 32-bit"
  },
  "interpreter": {
   "hash": "07c33aeff307ff22dc168a7d5d2d63bce530026ee9b30fd15de945cf78c3612f"
  }
 },
 "nbformat": 4,
 "nbformat_minor": 2
}